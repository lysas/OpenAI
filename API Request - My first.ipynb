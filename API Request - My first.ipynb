{
 "cells": [
  {
   "cell_type": "markdown",
   "id": "cae52c09",
   "metadata": {},
   "source": [
    "## Interact with openAI API"
   ]
  },
  {
   "cell_type": "markdown",
   "id": "802fe64d",
   "metadata": {},
   "source": [
    "## Step 1 : Install openAI"
   ]
  },
  {
   "cell_type": "code",
   "execution_count": null,
   "id": "cb8a45dd",
   "metadata": {},
   "outputs": [],
   "source": [
    "!pip install openai"
   ]
  },
  {
   "cell_type": "markdown",
   "id": "aaf47b4e",
   "metadata": {},
   "source": [
    "## Step 2 : Create API Key"
   ]
  },
  {
   "cell_type": "markdown",
   "id": "3e40ef62",
   "metadata": {},
   "source": [
    "### Step 2.1 : Go to https://platform.openai.com/account/api-keys\n",
    "### Step 2.2 : Click \"Create new secret key\"\n",
    "### Step 2.3 : In Windows 10 - Environment Variables-->System variables-->New--> OPENAI_API_KEY give the API key"
   ]
  },
  {
   "cell_type": "code",
   "execution_count": null,
   "id": "46e718d0",
   "metadata": {},
   "outputs": [],
   "source": [
    "import os\n",
    "import openai\n",
    "\n",
    "openai.api_key = os.getenv(\"OPENAI_API_KEY\")\n",
    "print(openai.api_key)"
   ]
  },
  {
   "cell_type": "markdown",
   "id": "c05cc256",
   "metadata": {},
   "source": [
    "## Step 3 : Make API request\n",
    "Model used : gpt-3.5-turbo\n",
    "Prompt : Say this is a test!\n",
    "\n",
    "The following curl command is to be given in the terminal"
   ]
  },
  {
   "cell_type": "markdown",
   "id": "aaf5ac48",
   "metadata": {},
   "source": [
    "curl https://api.openai.com/v1/chat/completions \\\n",
    "  -H \"Content-Type: application/json\" \\\n",
    "  -H \"Authorization: Bearer $OPENAI_API_KEY\" \\\n",
    "  -d '{\n",
    "     \"model\": \"gpt-3.5-turbo\",\n",
    "     \"messages\": [{\"role\": \"user\", \"content\": \"Say this is a test!\"}],\n",
    "     \"temperature\": 0.7\n",
    "   }'"
   ]
  },
  {
   "cell_type": "markdown",
   "id": "0182b83a",
   "metadata": {},
   "source": [
    "##  https://curlconverter.com/ was used to convert curl to Python and the following code was generated"
   ]
  },
  {
   "cell_type": "code",
   "execution_count": 5,
   "id": "2fb73de0",
   "metadata": {},
   "outputs": [],
   "source": [
    "import os\n",
    "import requests\n",
    "\n",
    "headers = {\n",
    "    'Content-Type': 'application/json',\n",
    "    'Authorization': 'Bearer ' + os.getenv('OPENAI_API_KEY', ''),\n",
    "}\n",
    "\n",
    "json_data = {\n",
    "    'model': 'gpt-3.5-turbo',\n",
    "    'messages': [\n",
    "        {\n",
    "            'role': 'user',\n",
    "            'content': 'Say this is a test!',\n",
    "        },\n",
    "    ],\n",
    "    'temperature': 0.7,\n",
    "}\n",
    "\n",
    "response = requests.post('https://api.openai.com/v1/chat/completions', headers=headers, json=json_data)\n",
    "\n",
    "# Note: json_data will not be serialized by requests\n",
    "# exactly as it was in the original request.\n",
    "#data = '{\\n     \"model\": \"gpt-3.5-turbo\",\\n     \"messages\": [{\"role\": \"user\", \"content\": \"Say this is a test!\"}],\\n     \"temperature\": 0.7\\n   }'\n",
    "#response = requests.post('https://api.openai.com/v1/chat/completions', headers=headers, data=data)"
   ]
  },
  {
   "cell_type": "markdown",
   "id": "8e90330d",
   "metadata": {},
   "source": [
    "# Check the response received"
   ]
  },
  {
   "cell_type": "code",
   "execution_count": 7,
   "id": "f252e9cb",
   "metadata": {},
   "outputs": [
    {
     "name": "stdout",
     "output_type": "stream",
     "text": [
      "b'{\"id\":\"chatcmpl-71v8NRxN9UbEZBVJ2nCmMtPNq8YBe\",\"object\":\"chat.completion\",\"created\":1680692307,\"model\":\"gpt-3.5-turbo-0301\",\"usage\":{\"prompt_tokens\":14,\"completion_tokens\":5,\"total_tokens\":19},\"choices\":[{\"message\":{\"role\":\"assistant\",\"content\":\"This is a test!\"},\"finish_reason\":\"stop\",\"index\":0}]}\\n'\n"
     ]
    }
   ],
   "source": [
    "print(response.content)"
   ]
  }
 ],
 "metadata": {
  "kernelspec": {
   "display_name": "Python 3 (ipykernel)",
   "language": "python",
   "name": "python3"
  },
  "language_info": {
   "codemirror_mode": {
    "name": "ipython",
    "version": 3
   },
   "file_extension": ".py",
   "mimetype": "text/x-python",
   "name": "python",
   "nbconvert_exporter": "python",
   "pygments_lexer": "ipython3",
   "version": "3.8.2"
  }
 },
 "nbformat": 4,
 "nbformat_minor": 5
}
